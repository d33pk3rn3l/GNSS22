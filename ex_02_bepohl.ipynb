{
 "cells": [
  {
   "cell_type": "markdown",
   "metadata": {},
   "source": [
    "# Berechnung einer absoluten Positionierung mit Code-Messungen, Teil 2"
   ]
  },
  {
   "cell_type": "code",
   "execution_count": 27,
   "metadata": {},
   "outputs": [],
   "source": [
    "# Requirements \n",
    "# pip install git+https://github.com/GNSSpy-Project/gnsspy\n",
    "# pip install pyunpack\n",
    "# pip install georinex\n",
    "\n",
    "# Libs\n",
    "import gnsspy as gp\n",
    "import numpy as np\n",
    "import georinex\n",
    "import geopandas\n",
    "import matplotlib.pyplot as plt\n",
    "import math\n",
    "import pandas as pd\n",
    "\n",
    "# Params\n",
    "np.set_printoptions(formatter={'float': '{: 0.5f}'.format})\n",
    "plt.rcParams['figure.dpi'] = 300"
   ]
  },
  {
   "cell_type": "code",
   "execution_count": 7,
   "metadata": {},
   "outputs": [],
   "source": [
    "%%capture\n",
    "# Dataimport\n",
    "station = gp.read_obsFile(\"./data/ONSA0320.11O\")\n",
    "ephemerides = georinex.load(\"./data/G3_11032.PRE\")\n",
    "clock = gp.read_clockFile(\"./data/cod16212.clk\")"
   ]
  },
  {
   "cell_type": "code",
   "execution_count": 32,
   "metadata": {},
   "outputs": [],
   "source": [
    "# get dfs for each epoch\n",
    "clock_epoch_0 = clock[clock.Epoch == \"2011-02-01 00:00:00\"]\n",
    "clock_epoch_1 = clock[clock.Epoch == \"2011-02-01 00:15:00\"]\n",
    "clock_epoch_2 = clock[clock.Epoch == \"2011-02-01 00:30:00\"]\n",
    "clock_epoch_3 = clock[clock.Epoch == \"2011-02-01 00:45:00\"]\n",
    "clock_epoch_4 = clock[clock.Epoch == \"2011-02-01 01:00:00\"]\n",
    "\n",
    "epoch_clock = list((clock_epoch_0, clock_epoch_1, clock_epoch_2, clock_epoch_3, clock_epoch_4))\n"
   ]
  },
  {
   "cell_type": "code",
   "execution_count": 25,
   "metadata": {},
   "outputs": [
    {
     "data": {
      "text/plain": [
       "-0.000204752538726"
      ]
     },
     "execution_count": 25,
     "metadata": {},
     "output_type": "execute_result"
    }
   ],
   "source": []
  },
  {
   "cell_type": "code",
   "execution_count": null,
   "metadata": {},
   "outputs": [],
   "source": []
  }
 ],
 "metadata": {
  "kernelspec": {
   "display_name": "Python 3",
   "language": "python",
   "name": "python3"
  },
  "language_info": {
   "codemirror_mode": {
    "name": "ipython",
    "version": 3
   },
   "file_extension": ".py",
   "mimetype": "text/x-python",
   "name": "python",
   "nbconvert_exporter": "python",
   "pygments_lexer": "ipython3",
   "version": "3.8.13"
  },
  "orig_nbformat": 4,
  "vscode": {
   "interpreter": {
    "hash": "110cc1dee26208153f2972f08a2ad52b6a56238dc66d48e87fb757ef2996db56"
   }
  }
 },
 "nbformat": 4,
 "nbformat_minor": 2
}
