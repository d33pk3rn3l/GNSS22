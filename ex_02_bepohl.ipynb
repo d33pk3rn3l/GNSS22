{
 "cells": [
  {
   "cell_type": "markdown",
   "metadata": {},
   "source": [
    "# Berechnung einer absoluten Positionierung mit Code-Messungen, Teil 2\n",
    "\n",
    "## Libraries and data cleaning"
   ]
  },
  {
   "cell_type": "code",
   "execution_count": 150,
   "metadata": {},
   "outputs": [],
   "source": [
    "%%capture\n",
    "# Requirements \n",
    "# pip install git+https://github.com/GNSSpy-Project/gnsspy\n",
    "# pip install pyunpack\n",
    "# pip install georinex\n",
    "\n",
    "# Libs\n",
    "import gnsspy as gp\n",
    "import numpy as np\n",
    "import georinex\n",
    "import geopandas\n",
    "import matplotlib.pyplot as plt\n",
    "import math\n",
    "import pandas as pd\n",
    "\n",
    "# Params\n",
    "np.set_printoptions(formatter={'float': '{: 0.5f}'.format})\n",
    "plt.rcParams['figure.dpi'] = 300"
   ]
  },
  {
   "cell_type": "code",
   "execution_count": 151,
   "metadata": {},
   "outputs": [],
   "source": [
    "%%capture\n",
    "# Dataimport\n",
    "station = gp.read_obsFile(\"./data/ONSA0320.11O\")\n",
    "ephemerides = georinex.load(\"./data/G3_11032.PRE\")\n",
    "clock = gp.read_clockFile(\"./data/cod16212.clk\")"
   ]
  },
  {
   "cell_type": "code",
   "execution_count": 152,
   "metadata": {},
   "outputs": [],
   "source": [
    "# get dfs for each epoch\n",
    "clock_epoch_0 = clock[clock.Epoch == \"2011-02-01 00:00:00\"]\n",
    "clock_epoch_1 = clock[clock.Epoch == \"2011-02-01 00:15:00\"]\n",
    "clock_epoch_2 = clock[clock.Epoch == \"2011-02-01 00:30:00\"]\n",
    "clock_epoch_3 = clock[clock.Epoch == \"2011-02-01 00:45:00\"]\n",
    "clock_epoch_4 = clock[clock.Epoch == \"2011-02-01 01:00:00\"]\n",
    "\n",
    "epochs_clock = list((clock_epoch_0, clock_epoch_1, clock_epoch_2, clock_epoch_3, clock_epoch_4))\n",
    "\n",
    "for epoch in epochs_clock:\n",
    "    epoch = epoch.drop(\"Epoch\", axis=1)\n",
    "\n",
    "ephemerides_epoch_0 = ephemerides.sel(time=\"2011-02-01T00:00:00.000000000\")\n",
    "ephemerides_epoch_1 = ephemerides.sel(time=\"2011-02-01T00:15:00.000000000\")\n",
    "ephemerides_epoch_2 = ephemerides.sel(time=\"2011-02-01T00:30:00.000000000\")\n",
    "ephemerides_epoch_3 = ephemerides.sel(time=\"2011-02-01T00:45:00.000000000\")\n",
    "ephemerides_epoch_4 = ephemerides.sel(time=\"2011-02-01T01:00:00.000000000\")\n",
    "\n",
    "epochs_ephemerides = list((ephemerides_epoch_0, ephemerides_epoch_1, ephemerides_epoch_2, ephemerides_epoch_3, ephemerides_epoch_4))"
   ]
  },
  {
   "cell_type": "code",
   "execution_count": 153,
   "metadata": {},
   "outputs": [],
   "source": [
    "# Clean all P1 / P2 for the epochs (only observed sats)\n",
    "P1_epoch_0 = station.observation.P1[\"2011-02-01 00:00:00\"]\n",
    "P1_epoch_0 = P1_epoch_0.filter(like='G', axis=0).dropna()\n",
    "P2_epoch_0 = station.observation.P2[\"2011-02-01 00:00:00\"]\n",
    "P2_epoch_0 = P2_epoch_0.filter(like='G', axis=0).dropna()\n",
    "\n",
    "P1_epoch_1 = station.observation.P1[\"2011-02-01 00:15:00\"]\n",
    "P1_epoch_1 = P1_epoch_1.filter(like='G', axis=0).dropna()\n",
    "P2_epoch_1 = station.observation.P2[\"2011-02-01 00:15:00\"]\n",
    "P2_epoch_1 = P2_epoch_1.filter(like='G', axis=0).dropna()\n",
    "\n",
    "P1_epoch_2 = station.observation.P1[\"2011-02-01 00:30:00\"]\n",
    "P1_epoch_2 = P1_epoch_2.filter(like='G', axis=0).dropna()\n",
    "P2_epoch_2 = station.observation.P2[\"2011-02-01 00:30:00\"]\n",
    "P2_epoch_2 = P2_epoch_2.filter(like='G', axis=0).dropna()\n",
    "\n",
    "P1_epoch_3 = station.observation.P1[\"2011-02-01 00:45:00\"]\n",
    "P1_epoch_3 = P1_epoch_3.filter(like='G', axis=0).dropna()\n",
    "P2_epoch_3 = station.observation.P2[\"2011-02-01 00:45:00\"]\n",
    "P2_epoch_3 = P2_epoch_3.filter(like='G', axis=0).dropna()\n",
    "\n",
    "P1_epoch_4 = station.observation.P1[\"2011-02-01 01:00:00\"]\n",
    "P1_epoch_4 = P1_epoch_4.filter(like='G', axis=0).dropna()\n",
    "P2_epoch_4 = station.observation.P2[\"2011-02-01 01:00:00\"]\n",
    "P2_epoch_4 = P2_epoch_4.filter(like='G', axis=0).dropna()\n",
    "\n",
    "epochs_P1 = list((P1_epoch_0, P1_epoch_1, P1_epoch_2, P1_epoch_3, P1_epoch_4))\n",
    "epochs_P2 = list((P2_epoch_0, P2_epoch_1, P2_epoch_2, P2_epoch_3, P2_epoch_4))"
   ]
  },
  {
   "cell_type": "markdown",
   "metadata": {},
   "source": [
    "## 1. A priori receiver clock bias\n",
    "\n",
    "### Definition of functions"
   ]
  },
  {
   "cell_type": "code",
   "execution_count": 154,
   "metadata": {},
   "outputs": [],
   "source": [
    "# Helper funcs for satellite Positions\n",
    "# Consts (should be defined in func that uses it so it can get reassigned, just for safety here)\n",
    "omega_e = 7.292115e-5 #s^-1\n",
    "c = 299792458 #m/s\n",
    "\n",
    "def calculateSatPos(earth_fixed_coords, sat_velocities):\n",
    "    omega_e = 7.292115e-5 #s^-1\n",
    "    c = 299792458 #m/s\n",
    "    \n",
    "    earth_fixed_coords_si = earth_fixed_coords * 1000 # km to m\n",
    "    sat_velocities_si = sat_velocities / 10 # dm/s to m/s\n",
    "    \n",
    "    tau = math.dist(np.array(station.approx_position), earth_fixed_coords_si) / c\n",
    "    sat_coords = np.array(earth_fixed_coords_si).T - np.array( (sat_velocities_si + (omega_e * np.array([-earth_fixed_coords_si[1], earth_fixed_coords_si[0], 0]))) * tau)\n",
    "\n",
    "    return sat_coords\n",
    "\n",
    "# Helper funcs for tropospherical correction\n",
    "# Rotation matrices\n",
    "def ry(a): return np.matrix([[np.cos(a), 0, -np.sin(a)], [0, 1, 0], [np.sin(a), 0, np.cos(a)]])\n",
    "def rz(a): return np.matrix([[np.cos(a), np.sin(a), 0], [-np.sin(a), np.cos(a), 0], [0, 0, 1]])\n",
    "\n",
    "def calculateLatLong(earth_fixed_coords):\n",
    "    x,y,z = earth_fixed_coords\n",
    "\n",
    "    lat = math.degrees(math.atan2(z, math.sqrt(x**2 + y**2)))\n",
    "    lon = math.degrees(math.atan2(y, x))\n",
    "\n",
    "    return lat, lon\n",
    "\n",
    "# Topo Coords\n",
    "def calculateTopoCoords(stat_coord_earth_fixed, earth_fixed_coords_at_send):\n",
    "    lat_s, lon_s = calculateLatLong(stat_coord_earth_fixed)\n",
    "    lat_s, lon_s = math.radians(lat_s), math.radians(lon_s)\n",
    "\n",
    "    # Calculate N, E, U\n",
    "    topo_coords = ry((math.pi / 2) - lat_s) @ rz(lon_s) @ (earth_fixed_coords_at_send - stat_coord_earth_fixed).T\n",
    "    n = -topo_coords[0,0]\n",
    "    e = topo_coords[0,1]\n",
    "    u = topo_coords[0,2]\n",
    "    \n",
    "    return (n, e, u)\n",
    "\n",
    "# Zenitwinkel\n",
    "def calculateZn(topo_coords):\n",
    "    n, e, u = topo_coords\n",
    "    return math.degrees(math.atan2(math.sqrt(n**2 + e**2), u))\n",
    "\n",
    "# Tropo delay\n",
    "def calculateTropDelay(angle):\n",
    "    return 2.4 / math.cos(math.radians(angle))\n",
    "\n",
    "# Relativistic delay\n",
    "def calculateRelativistics(coord, velocity):\n",
    "    velocity = velocity / 10 # dm/s to m/s\n",
    "    return 2 * (coord @ velocity.T) / c"
   ]
  },
  {
   "cell_type": "markdown",
   "metadata": {},
   "source": [
    "### Calculate satellite positions for all sats with corrections"
   ]
  },
  {
   "cell_type": "code",
   "execution_count": 155,
   "metadata": {},
   "outputs": [],
   "source": [
    "# Calculate Sat positions for each epoch for each satellite in Interval A\n",
    "sat_coords_at_send = list()\n",
    "velo_at_send = list()\n",
    "for epoch in epochs_ephemerides: # for each epoch\n",
    "    epoch_helper = list()\n",
    "    velo_helper = list()\n",
    "    for j, coord in enumerate(epoch.position): # for each coordinate\n",
    "        epoch_helper.append(calculateSatPos(coord, epoch.velocity[j])) # calculate sat position at send time\n",
    "        velo_helper.append(np.array(epoch.velocity[j]))\n",
    "    sat_coords_at_send.append(np.array(epoch_helper))\n",
    "    velo_at_send.append(velo_helper)\n",
    "\n",
    "# Calculate Tropo delay for each epoch for each satellite in Interval A\n",
    "tropo_delay = list()\n",
    "for epoch in sat_coords_at_send: # for each epoch\n",
    "    epoch_helper = list()\n",
    "    for i, coords in enumerate(epoch): # for each coordinate\n",
    "        epoch_helper.append(calculateTropDelay(calculateZn(calculateTopoCoords(station.approx_position, coords))))\n",
    "    tropo_delay.append(np.array(epoch_helper))\n",
    "\n",
    "# Calculate Relativistic delay for each epoch for each satellite in Interval A\n",
    "relativistic_delay = list()\n",
    "for i, epoch in enumerate(sat_coords_at_send): # for each epoch\n",
    "    epoch_helper = list()\n",
    "    for j, coords in enumerate(epoch): # for each velocity\n",
    "        epoch_helper.append(calculateRelativistics(coords, velo_at_send[i][j]))\n",
    "    relativistic_delay.append(np.array(epoch_helper))"
   ]
  },
  {
   "cell_type": "markdown",
   "metadata": {},
   "source": [
    "### Calculate clock bias for each satellite"
   ]
  },
  {
   "cell_type": "code",
   "execution_count": 156,
   "metadata": {},
   "outputs": [],
   "source": [
    "def calculateP3k(p_1, p_2):\n",
    "    f_0 = 10.23 * 10**6\n",
    "    f_1 = 154 * f_0\n",
    "    f_2 = 120 * f_0\n",
    "    return (f_1**2 * p_1 - f_2**2 * p_2) / (f_1**2 - f_2**2)\n",
    "\n",
    "def calculateI0_i(stat_coord_earth_fixed, earth_fixed_coords_at_send, clock_bias_i, epoch_i, index):\n",
    "    c = 299792458 #m/s\n",
    "\n",
    "    dist = math.dist(np.array(stat_coord_earth_fixed), earth_fixed_coords_at_send)\n",
    "    trop = tropo_delay[epoch_i][index]\n",
    "    relat = relativistic_delay[epoch_i][index]\n",
    "\n",
    "    return dist + trop + relat - clock_bias_i * c\n",
    "\n",
    "# Calculate a-priori clock bias for each epoch for each satellite in Interval A\n",
    "p3k_i = list()\n",
    "I_0_i = list()\n",
    "for i, epoch in enumerate(epochs_ephemerides): # for each epoch\n",
    "    epoch_helper = list()\n",
    "    epoch_helper_i0 = list()\n",
    "    observed_satellites = epochs_P1[i].index.str.replace('G', '').astype(int)\n",
    "    for j, coords in enumerate(epoch.position): # for each delta\n",
    "        if j in observed_satellites:\n",
    "            # calculate P3_i\n",
    "            index = str(j)\n",
    "            if j < 10: index = \"0\" + index\n",
    "            p_1, p_2 = epochs_P1[i][\"G\" + index], epochs_P2[i][\"G\" + index]\n",
    "            epoch_helper.append((index, calculateP3k(p_1, p_2)))\n",
    "\n",
    "            # Calculate I0_i\n",
    "            epoch_helper_i0.append((index, calculateI0_i(station.approx_position, sat_coords_at_send[i][j - 1], epochs_clock[i][\"DeltaTSV\"][\"G\" + index], i, j - 1)))\n",
    "    p3k_i.append(pd.DataFrame(epoch_helper).rename(columns={0: \"Satellite\", 1: \"P3_k\"}))\n",
    "    I_0_i.append(pd.DataFrame(epoch_helper_i0).rename(columns={0: \"Satellite\", 1: \"I_0\"}))"
   ]
  },
  {
   "cell_type": "markdown",
   "metadata": {},
   "source": [
    "### Do fitting with all clock biases for epoch clock bias"
   ]
  },
  {
   "cell_type": "code",
   "execution_count": 157,
   "metadata": {},
   "outputs": [],
   "source": [
    "# Ausgleichsrechnung\n",
    "## Init I tilde\n",
    "I_dash = list()\n",
    "for i, p3k in enumerate(p3k_i):\n",
    "    satellites = p3k.Satellite\n",
    "    I_dash_i = p3k.P3_k - I_0_i[i].I_0\n",
    "    concat = pd.DataFrame({\"Satellite\": satellites, \"I_dash\": I_dash_i})\n",
    "    I_dash.append(concat)\n",
    "\n",
    "## Initialize all P matrices\n",
    "P_epochs = list()\n",
    "zn = list()\n",
    "for i, I_dash_i in enumerate(I_dash):\n",
    "    zn_list = list()\n",
    "    for j, satellite in enumerate(I_dash_i.I_dash):\n",
    "        zn_list.append(calculateZn(calculateTopoCoords(station.approx_position, sat_coords_at_send[i][I_dash[i].Satellite.astype(int)[j] - 1]))) # ZN of satellite i\n",
    "    P_epochs.append( np.diag(np.cos(np.radians((np.array(zn_list))))**2 ))\n",
    "    \n",
    "## Initialize A matrices\n",
    "A_epochs = list()\n",
    "for i, I_dash_i in enumerate(I_dash):\n",
    "    A_epochs.append(np.full((len(I_dash_i), 1), c))\n",
    "\n",
    "## do your thing\n",
    "delta_tk_epochs = list()\n",
    "for i in range(5):\n",
    "    delta_tk_epochs.append(np.linalg.inv(A_epochs[i].T @ P_epochs[i] @ A_epochs[i]) @ A_epochs[i].T @ P_epochs[i] @ I_dash[i].I_dash)"
   ]
  },
  {
   "cell_type": "markdown",
   "metadata": {},
   "source": [
    "### Resulting epoch clock biases"
   ]
  },
  {
   "cell_type": "code",
   "execution_count": 158,
   "metadata": {},
   "outputs": [
    {
     "name": "stdout",
     "output_type": "stream",
     "text": [
      "Delta_tk bias for each epoch:\n",
      "-2.60725722515549e-05\n",
      "-2.607239480478024e-05\n",
      "-2.6070772278066725e-05\n",
      "-2.60707140000212e-05\n",
      "-2.6069728000436512e-05\n"
     ]
    }
   ],
   "source": [
    "print(\"Delta_tk bias for each epoch:\")\n",
    "for delta_tk in delta_tk_epochs:\n",
    "    print(float(delta_tk))"
   ]
  },
  {
   "cell_type": "code",
   "execution_count": 159,
   "metadata": {},
   "outputs": [],
   "source": [
    "# Use this for indexing (eg. sats[1] = \"G01\")\n",
    "sats = list()\n",
    "for i in range(40):\n",
    "    if i < 10: i = \"0\" + str(i)\n",
    "    sats.append(\"G\" + str(i))\n",
    "\n",
    "# Use this for indexing over epochs (eg observed_satellites_epochs[0][1] = \"G22\")\n",
    "observed_satellites_epochs = list()\n",
    "for epoch in epochs_P1:\n",
    "    observed_satellites_epochs.append(list(epoch.index))"
   ]
  },
  {
   "cell_type": "markdown",
   "metadata": {},
   "source": [
    "## 2. Stationcoordinates\n",
    "\n",
    "### 2a) Correct sat positions with new transmission delay based on clock bias"
   ]
  },
  {
   "cell_type": "code",
   "execution_count": 160,
   "metadata": {},
   "outputs": [
    {
     "name": "stdout",
     "output_type": "stream",
     "text": [
      "G25 Corrected Sat Positions:\n",
      "[ 18619309.34432 -15884993.17540  10299699.57366]\n",
      "[ 18131149.06977 -14641084.79629  12725495.90149]\n",
      "[ 17588720.65841 -13139931.16253  14932097.42395]\n",
      "[ 17031860.24737 -11396433.59762  16881478.97330]\n",
      "[ 16498097.89783 -9433722.69675  18540047.10195]\n"
     ]
    }
   ],
   "source": [
    "# 2a) Correction Sat positions \n",
    "##TODO not working yet, values way too big\n",
    "def calculateSatPosTau(earth_fixed_coords, sat_velocities, tau):\n",
    "    omega_e = 7.292115e-5 #s^-1\n",
    "    c = 299792458 #m/s\n",
    "    \n",
    "    earth_fixed_coords_si = earth_fixed_coords * 1000 # km to m\n",
    "    sat_velocities_si = sat_velocities / 10 # dm/s to m/s\n",
    "    \n",
    "    sat_coords = np.array(earth_fixed_coords_si).T - np.array( (sat_velocities_si + (omega_e * np.array([-earth_fixed_coords_si[1], earth_fixed_coords_si[0], 0]))) * tau)\n",
    "\n",
    "    return sat_coords\n",
    "\n",
    "# Calculate Sat positions for each epoch for each satellite in Interval A\n",
    "sat_coords_at_send_corrected = list()\n",
    "velo_at_send = list()\n",
    "for i, epoch in enumerate(p3k_i): # for each epoch\n",
    "    epoch_helper = dict()\n",
    "    velo_helper = list()\n",
    "    for j, p3kij in enumerate(epoch.values):\n",
    "        #print(int(p3kij[0]))\n",
    "        epoch_helper.update({\"G\" + p3kij[0]: calculateSatPosTau(epochs_ephemerides[i].sel(sv=sats[int(p3kij[0])]).position, epochs_ephemerides[i].sel(sv=sats[int(p3kij[0])]).velocity, p3kij[1] / c + delta_tk_epochs[i])}) # calculate sat position at send time\n",
    "        velo_helper.append(np.array(epochs_ephemerides[i].sel(sv=sats[int(p3kij[0])]).velocity))\n",
    "    sat_coords_at_send_corrected.append(epoch_helper)\n",
    "    velo_at_send.append(velo_helper)\n",
    "\n",
    "print(\"G25 Corrected Sat Positions:\")\n",
    "for epoch in sat_coords_at_send_corrected:\n",
    "    print(epoch[\"G25\"])"
   ]
  },
  {
   "cell_type": "code",
   "execution_count": 161,
   "metadata": {},
   "outputs": [],
   "source": [
    "observed_satellites_epochs = list()\n",
    "for epoch in sat_coords_at_send_corrected:\n",
    "    observed_satellites_epochs.append(list(epoch.keys()))"
   ]
  },
  {
   "cell_type": "markdown",
   "metadata": {},
   "source": [
    "### 2b) Do fitting based on new coords and biases for station coordinates"
   ]
  },
  {
   "cell_type": "code",
   "execution_count": 162,
   "metadata": {},
   "outputs": [],
   "source": [
    "# Ausgleichsrechnung\n",
    "## Init I tilde\n",
    "I_dash = list()\n",
    "for i, p3k in enumerate(p3k_i):\n",
    "    satellites = p3k.Satellite\n",
    "    I_dash_i = p3k.P3_k - I_0_i[i].I_0\n",
    "    concat = pd.DataFrame({\"Satellite\": satellites, \"I_dash\": I_dash_i})\n",
    "    I_dash.append(concat)\n",
    "\n",
    "## Initialize all P matrices\n",
    "P_epochs = list()\n",
    "zn = list()\n",
    "for i, I_dash_i in enumerate(I_dash):\n",
    "    zn_list = list()\n",
    "    for j, satellite in enumerate(I_dash_i.I_dash):\n",
    "        zn_list.append(calculateZn(calculateTopoCoords(station.approx_position, sat_coords_at_send[i][I_dash[i].Satellite.astype(int)[j] - 1]))) # ZN of satellite i\n",
    "    P_epochs.append( np.diag(np.cos(np.radians((np.array(zn_list))))**2) )\n",
    "    \n",
    "## Initialize A matrices\n",
    "A_epochs = list()\n",
    "for i, epoch in enumerate(observed_satellites_epochs):\n",
    "    Ai_list = list()\n",
    "    for j, satellite in enumerate(epoch):\n",
    "        X_s, Y_s, Z_s = station.approx_position\n",
    "        X_sat, Y_sat, Z_sat = sat_coords_at_send_corrected[i][satellite]\n",
    "        dist = math.dist(station.approx_position, sat_coords_at_send_corrected[i][satellite])\n",
    "        Ai_list.append(-np.array([(X_sat - X_s) / dist, (Y_sat - Y_s) / dist, (Z_sat - Z_s) / dist, -1]))\n",
    "    A_epochs.append(np.array(Ai_list))\n",
    "\n",
    "## do your thing\n",
    "stat_coord_epochs = list()\n",
    "for i in range(5):\n",
    "    delta_stat_coord_epochs = np.linalg.inv(A_epochs[i].T @ P_epochs[i] @ A_epochs[i]) @ A_epochs[i].T @ P_epochs[i] @ I_dash[i].I_dash\n",
    "    stat_coord_epochs.append(np.array(station.approx_position - delta_stat_coord_epochs[0:3]))"
   ]
  },
  {
   "cell_type": "code",
   "execution_count": 163,
   "metadata": {},
   "outputs": [
    {
     "name": "stdout",
     "output_type": "stream",
     "text": [
      "Corrected station coordinates for each epoch:\n"
     ]
    },
    {
     "data": {
      "text/plain": [
       "[array([ 3370657.62334,  711876.25165,  5349785.95224]),\n",
       " array([ 3370658.79049,  711875.77809,  5349787.88527]),\n",
       " array([ 3370658.34442,  711875.87220,  5349787.49884]),\n",
       " array([ 3370660.74713,  711876.03286,  5349787.16751]),\n",
       " array([ 3370657.20009,  711876.10735,  5349785.63052])]"
      ]
     },
     "execution_count": 163,
     "metadata": {},
     "output_type": "execute_result"
    }
   ],
   "source": [
    "print(\"Corrected station coordinates for each epoch:\")\n",
    "stat_coord_epochs"
   ]
  },
  {
   "cell_type": "markdown",
   "metadata": {},
   "source": [
    "### 2c) Show differences between calculated and given station coordinates"
   ]
  },
  {
   "cell_type": "code",
   "execution_count": 164,
   "metadata": {},
   "outputs": [
    {
     "name": "stdout",
     "output_type": "stream",
     "text": [
      "Differences for each epoch in North, East, Up coordinates to given coordinates:\n"
     ]
    },
    {
     "data": {
      "text/plain": [
       "[(0.2782328855576145, -0.782017519303059, -1.4433419595222399),\n",
       " (0.44696264559170573, -1.486535156952947, 0.7471603322803547),\n",
       " (0.5883360336008537, -1.3022725309985053, 0.19649593971454132),\n",
       " (-1.5954571758978595, -1.6415805303571782, 1.2086786301766779),\n",
       " (0.4772982662828332, -0.8357374743498829, -1.9541805485606965)]"
      ]
     },
     "execution_count": 164,
     "metadata": {},
     "output_type": "execute_result"
    }
   ],
   "source": [
    "# 2c) Abweichungen zwischen präzisen und berechneten Koordinaten\n",
    "X_s_prec, Y_s_prec, Z_s_prec = 3370658.4552, 711877.2266, 5349787.0151\n",
    "stat_prec = (X_s_prec, Y_s_prec, Z_s_prec)\n",
    "lat_s_prec, lon_s_prec = calculateLatLong(stat_prec)\n",
    "\n",
    "delta_stat_neu = list()\n",
    "for i in range(5):\n",
    "    delta_stat_neu.append(calculateTopoCoords(stat_prec, stat_coord_epochs[i]))\n",
    "\n",
    "print(\"Differences for each epoch in North, East, Up coordinates to given coordinates:\")\n",
    "delta_stat_neu"
   ]
  }
 ],
 "metadata": {
  "kernelspec": {
   "display_name": "Python 3",
   "language": "python",
   "name": "python3"
  },
  "language_info": {
   "codemirror_mode": {
    "name": "ipython",
    "version": 3
   },
   "file_extension": ".py",
   "mimetype": "text/x-python",
   "name": "python",
   "nbconvert_exporter": "python",
   "pygments_lexer": "ipython3",
   "version": "3.8.13"
  },
  "orig_nbformat": 4,
  "vscode": {
   "interpreter": {
    "hash": "9ac03a0a6051494cc606d484d27d20fce22fb7b4d169f583271e11d5ba46a56e"
   }
  }
 },
 "nbformat": 4,
 "nbformat_minor": 2
}
