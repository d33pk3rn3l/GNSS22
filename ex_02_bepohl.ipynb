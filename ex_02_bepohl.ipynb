{
 "cells": [
  {
   "cell_type": "markdown",
   "metadata": {},
   "source": [
    "# Berechnung einer absoluten Positionierung mit Code-Messungen, Teil 2"
   ]
  },
  {
   "cell_type": "code",
   "execution_count": 265,
   "metadata": {},
   "outputs": [],
   "source": [
    "%%capture\n",
    "# Requirements \n",
    "# pip install git+https://github.com/GNSSpy-Project/gnsspy\n",
    "# pip install pyunpack\n",
    "# pip install georinex\n",
    "\n",
    "# Libs\n",
    "import gnsspy as gp\n",
    "import numpy as np\n",
    "import georinex\n",
    "import geopandas\n",
    "import matplotlib.pyplot as plt\n",
    "import math\n",
    "import pandas as pd\n",
    "\n",
    "# Params\n",
    "np.set_printoptions(formatter={'float': '{: 0.5f}'.format})\n",
    "plt.rcParams['figure.dpi'] = 300"
   ]
  },
  {
   "cell_type": "code",
   "execution_count": 266,
   "metadata": {},
   "outputs": [],
   "source": [
    "%%capture\n",
    "# Dataimport\n",
    "station = gp.read_obsFile(\"./data/ONSA0320.11O\")\n",
    "ephemerides = georinex.load(\"./data/G3_11032.PRE\")\n",
    "clock = gp.read_clockFile(\"./data/cod16212.clk\")"
   ]
  },
  {
   "cell_type": "code",
   "execution_count": 267,
   "metadata": {},
   "outputs": [],
   "source": [
    "# get dfs for each epoch\n",
    "clock_epoch_0 = clock[clock.Epoch == \"2011-02-01 00:00:00\"]\n",
    "clock_epoch_1 = clock[clock.Epoch == \"2011-02-01 00:15:00\"]\n",
    "clock_epoch_2 = clock[clock.Epoch == \"2011-02-01 00:30:00\"]\n",
    "clock_epoch_3 = clock[clock.Epoch == \"2011-02-01 00:45:00\"]\n",
    "clock_epoch_4 = clock[clock.Epoch == \"2011-02-01 01:00:00\"]\n",
    "\n",
    "epochs_clock = list((clock_epoch_0, clock_epoch_1, clock_epoch_2, clock_epoch_3, clock_epoch_4))\n",
    "\n",
    "for epoch in epochs_clock:\n",
    "    epoch.set_index(epoch.index.str.replace(\"G\", \"\").astype(int), inplace=True)\n",
    "    epoch = epoch.drop(\"Epoch\", axis=1)\n",
    "\n",
    "ephemerides_epoch_0 = ephemerides.sel(time=\"2011-02-01T00:00:00.000000000\")\n",
    "ephemerides_epoch_1 = ephemerides.sel(time=\"2011-02-01T00:15:00.000000000\")\n",
    "ephemerides_epoch_2 = ephemerides.sel(time=\"2011-02-01T00:30:00.000000000\")\n",
    "ephemerides_epoch_3 = ephemerides.sel(time=\"2011-02-01T00:45:00.000000000\")\n",
    "ephemerides_epoch_4 = ephemerides.sel(time=\"2011-02-01T01:00:00.000000000\")\n",
    "\n",
    "epochs_ephemerides = list((ephemerides_epoch_0, ephemerides_epoch_1, ephemerides_epoch_2, ephemerides_epoch_3, ephemerides_epoch_4))"
   ]
  },
  {
   "cell_type": "code",
   "execution_count": 268,
   "metadata": {},
   "outputs": [],
   "source": [
    "# Clean all P1 / P2 for the epochs\n",
    "P1_epoch_0 = station.observation.P1[\"2011-02-01 00:00:00\"]\n",
    "P1_epoch_0 = P1_epoch_0.filter(like='G', axis=0).dropna()\n",
    "P2_epoch_0 = station.observation.P2[\"2011-02-01 00:00:00\"]\n",
    "P2_epoch_0 = P2_epoch_0.filter(like='G', axis=0).dropna()\n",
    "\n",
    "P1_epoch_1 = station.observation.P1[\"2011-02-01 00:15:00\"]\n",
    "P1_epoch_1 = P1_epoch_1.filter(like='G', axis=0).dropna()\n",
    "P2_epoch_1 = station.observation.P2[\"2011-02-01 00:15:00\"]\n",
    "P2_epoch_1 = P2_epoch_1.filter(like='G', axis=0).dropna()\n",
    "\n",
    "P1_epoch_2 = station.observation.P1[\"2011-02-01 00:30:00\"]\n",
    "P1_epoch_2 = P1_epoch_2.filter(like='G', axis=0).dropna()\n",
    "P2_epoch_2 = station.observation.P2[\"2011-02-01 00:30:00\"]\n",
    "P2_epoch_2 = P2_epoch_2.filter(like='G', axis=0).dropna()\n",
    "\n",
    "P1_epoch_3 = station.observation.P1[\"2011-02-01 00:45:00\"]\n",
    "P1_epoch_3 = P1_epoch_3.filter(like='G', axis=0).dropna()\n",
    "P2_epoch_3 = station.observation.P2[\"2011-02-01 00:45:00\"]\n",
    "P2_epoch_3 = P2_epoch_3.filter(like='G', axis=0).dropna()\n",
    "\n",
    "P1_epoch_4 = station.observation.P1[\"2011-02-01 01:00:00\"]\n",
    "P1_epoch_4 = P1_epoch_4.filter(like='G', axis=0).dropna()\n",
    "P2_epoch_4 = station.observation.P2[\"2011-02-01 01:00:00\"]\n",
    "P2_epoch_4 = P2_epoch_4.filter(like='G', axis=0).dropna()\n",
    "\n",
    "epochs_P1 = list((P1_epoch_0, P1_epoch_1, P1_epoch_2, P1_epoch_3, P1_epoch_4))\n",
    "epochs_P2 = list((P2_epoch_0, P2_epoch_1, P2_epoch_2, P2_epoch_3, P2_epoch_4))"
   ]
  },
  {
   "cell_type": "code",
   "execution_count": 269,
   "metadata": {},
   "outputs": [],
   "source": [
    "# Helper funcs for satellite Positions\n",
    "# Consts\n",
    "omega_e = 7.292115e-5 #s^-1\n",
    "c = 299792458 #m/s\n",
    "\n",
    "def calculateSatPos(earth_fixed_coords, sat_velocities):\n",
    "    omega_e = 7.292115e-5 #s^-1\n",
    "    c = 299792458 #m/s\n",
    "    \n",
    "    earth_fixed_coords_si = earth_fixed_coords * 1000 # km to m\n",
    "    sat_velocities_si = sat_velocities / 10 # dm/s to m/s\n",
    "    \n",
    "    tau = math.dist(np.array(station.approx_position), earth_fixed_coords_si) / c\n",
    "    sat_coords = np.array(earth_fixed_coords_si).T - np.array( (sat_velocities_si + (omega_e * np.array([-earth_fixed_coords_si[1], earth_fixed_coords_si[0], 0]))) * tau)\n",
    "\n",
    "    return sat_coords\n",
    "\n",
    "# Helper funcs for tropospherical correction\n",
    "# Rotation matrices\n",
    "def ry(a): return np.matrix([[np.cos(a), 0, -np.sin(a)], [0, 1, 0], [np.sin(a), 0, np.cos(a)]])\n",
    "def rz(a): return np.matrix([[np.cos(a), np.sin(a), 0], [-np.sin(a), np.cos(a), 0], [0, 0, 1]])\n",
    "\n",
    "def calculateLatLong(earth_fixed_coords):\n",
    "    x,y,z = earth_fixed_coords\n",
    "\n",
    "    lat = math.degrees(math.atan2(z, math.sqrt(x**2 + y**2)))\n",
    "    lon = math.degrees(math.atan2(y, x))\n",
    "\n",
    "    return lat, lon\n",
    "\n",
    "# Topo Coords\n",
    "def calculateTopoCoords(stat_coord_earth_fixed, earth_fixed_coords_at_send):\n",
    "    lat_s, lon_s = calculateLatLong(stat_coord_earth_fixed)\n",
    "    lat_s, lon_s = math.radians(lat_s), math.radians(lon_s)\n",
    "\n",
    "    # Calculate N, E, U\n",
    "    topo_coords = ry((math.pi / 2) - lat_s) @ rz(lon_s) @ (earth_fixed_coords_at_send - stat_coord_earth_fixed).T\n",
    "    n = -topo_coords[0,0]\n",
    "    e = topo_coords[0,1]\n",
    "    u = topo_coords[0,2]\n",
    "    \n",
    "    return (n, e, u)\n",
    "\n",
    "# Zenitwinkel\n",
    "def calculateZn(topo_coords):\n",
    "    n, e, u = topo_coords\n",
    "    return math.degrees(math.atan2(math.sqrt(n**2 + e**2), u))\n",
    "\n",
    "# Tropo delay\n",
    "def calculateTropDelay(angle):\n",
    "    return 2.4 / math.cos(math.radians(angle))\n",
    "\n",
    "# Relativistic delay\n",
    "def calculateRelativistics(coord, velocity):\n",
    "    velocity = velocity / 10 # dm/s to m/s\n",
    "    return 2 * (coord @ velocity.T) / c"
   ]
  },
  {
   "cell_type": "code",
   "execution_count": 270,
   "metadata": {},
   "outputs": [],
   "source": [
    "# Calculate Sat positions for each epoch for each satellite in Interval A\n",
    "sat_coords_at_send = list()\n",
    "velo_at_send = list()\n",
    "for epoch in epochs_ephemerides: # for each epoch\n",
    "    epoch_helper = list()\n",
    "    velo_helper = list()\n",
    "    for j, coord in enumerate(epoch.position): # for each coordinate\n",
    "        #print(\"koord\", coord, \"velo\", epoch.velocity[j])\n",
    "        epoch_helper.append(calculateSatPos(coord, epoch.velocity[j])) # calculate sat position at send time\n",
    "        velo_helper.append(np.array(epoch.velocity[j]))\n",
    "    sat_coords_at_send.append(np.array(epoch_helper))\n",
    "    velo_at_send.append(velo_helper)\n",
    "\n",
    "# sat_coords_at_send[epoch][satellite] example epoch 4 with g25: sat_coords_at_send[4][24])\n",
    "\n",
    "# Calculate Tropo delay for each epoch for each satellite in Interval A\n",
    "tropo_delay = list()\n",
    "for epoch in sat_coords_at_send: # for each epoch\n",
    "    epoch_helper = list()\n",
    "    for i, coords in enumerate(epoch): # for each coordinate\n",
    "        epoch_helper.append(calculateTropDelay(calculateZn(calculateTopoCoords(station.approx_position, coords))))\n",
    "    tropo_delay.append(np.array(epoch_helper))\n",
    "\n",
    "#print(tropo_delay[0][24])\n",
    "#print(np.array(calculateTopoCoords(np.array(station.approx_position) * 1000, sat_coords_at_send[0][24]))) # should be 0,0,0\n",
    "#print(np.array(calculateZn(calculateTopoCoords(np.array(station.approx_position), sat_coords_at_send[0][24])))) # should be 63.26054\n",
    "\n",
    "# Calculate Relativistic delay for each epoch for each satellite in Interval A\n",
    "relativistic_delay = list()\n",
    "for i, epoch in enumerate(sat_coords_at_send): # for each epoch\n",
    "    epoch_helper = list()\n",
    "    for j, coords in enumerate(epoch): # for each velocity\n",
    "        epoch_helper.append(calculateRelativistics(coords, velo_at_send[i][j]))\n",
    "    relativistic_delay.append(np.array(epoch_helper))\n",
    "\n",
    "# print(relativistic_delay[0][24])"
   ]
  },
  {
   "cell_type": "code",
   "execution_count": 271,
   "metadata": {},
   "outputs": [],
   "source": [
    "def calculateP3k(p_1, p_2):\n",
    "    f_0 = 10.23 * 10**6\n",
    "    f_1 = 154 * f_0\n",
    "    f_2 = 120 * f_0\n",
    "    return (f_1**2 * p_1 - f_2**2 * p_2) / (f_1**2 - f_2**2)\n",
    "\n",
    "def calculateI0_i(stat_coord_earth_fixed, earth_fixed_coords_at_send, clock_bias_i, epoch_i, index):\n",
    "    c = 299792458 #m/s\n",
    "    \n",
    "    tau = math.dist(np.array(station.approx_position), earth_fixed_coords_at_send) / c\n",
    "    trop = tropo_delay[epoch_i][index]\n",
    "    relat = relativistic_delay[epoch_i][index]\n",
    "\n",
    "    return tau + trop + relat - clock_bias_i * c\n",
    "\n",
    "# Calculate a-priori clock bias for each epoch for each satellite in Interval A\n",
    "p3k_i = list()\n",
    "I_0_i = list()\n",
    "for i, epoch in enumerate(epochs_ephemerides): # for each epoch\n",
    "    epoch_helper = list()\n",
    "    epoch_helper_i0 = list()\n",
    "    observed_satellites = epochs_P1[i].index.str.replace('G', '').astype(int)\n",
    "    for j, coords in enumerate(epoch.position): # for each delta\n",
    "        if j in observed_satellites:\n",
    "            # calculate P3_i\n",
    "            index = str(j)\n",
    "            if j < 10: index = \"0\" + index\n",
    "            p_1, p_2 = epochs_P1[i][\"G\" + index], epochs_P2[i][\"G\" + index]\n",
    "            epoch_helper.append((index, calculateP3k(p_1, p_2)))\n",
    "\n",
    "            # Calculate I0_i\n",
    "            epoch_helper_i0.append((index, calculateI0_i(station.approx_position, sat_coords_at_send[i][j], epochs_clock[i].iloc[j].DeltaTSV, i, j)))\n",
    "    p3k_i.append(pd.DataFrame(epoch_helper).rename(columns={0: \"Satellite\", 1: \"P3_k\"}))\n",
    "    I_0_i.append(pd.DataFrame(epoch_helper_i0).rename(columns={0: \"Satellite\", 1: \"I_0\"}))\n",
    "\n",
    "\n",
    "#print(p3k_i[0])\n",
    "#print(I_0_i[0])"
   ]
  },
  {
   "cell_type": "code",
   "execution_count": 302,
   "metadata": {},
   "outputs": [],
   "source": [
    "# Ausgleichsrechnung\n",
    "## Init I tilde\n",
    "I_dash = list()\n",
    "for i, p3k in enumerate(p3k_i)\n",
    "    satellites = p3k.Satellite\n",
    "    I_dash_i = p3k.P3_k - I_0_i[i].I_0\n",
    "    concat = pd.DataFrame({\"Satellite\": satellites, \"I_dash\": I_dash_i})\n",
    "    I_dash.append(concat)\n",
    "\n",
    "## Initialize all P matrices\n",
    "P_epochs = list()\n",
    "zn = list()\n",
    "for i, I_dash_i in enumerate(I_dash):\n",
    "    zn_list = list()\n",
    "    for j, satellite in enumerate(I_dash_i.I_dash):\n",
    "        zn_list.append(calculateZn(calculateTopoCoords(station.approx_position, sat_coords_at_send[i][I_dash[i].Satellite.astype(int)[j] - 1]))) # ZN of satellite i\n",
    "    P_epochs.append( np.diag(np.cos(np.radians((np.array(zn_list))))**2 ))\n",
    "    \n",
    "## Initialize A matrices\n",
    "A_epochs = list()\n",
    "for i, I_dash_i in enumerate(I_dash):\n",
    "    A_epochs.append(np.full((len(I_dash_i)), c))\n",
    "\n",
    "## do your thing\n",
    "delta_tk_epochs = list()\n",
    "for i, I_dash_i in enumerate(I_dash):\n",
    "    "
   ]
  },
  {
   "cell_type": "code",
   "execution_count": 303,
   "metadata": {},
   "outputs": [
    {
     "data": {
      "text/plain": [
       "[array([299792458, 299792458, 299792458, 299792458, 299792458, 299792458,\n",
       "        299792458, 299792458, 299792458]),\n",
       " array([299792458, 299792458, 299792458, 299792458, 299792458, 299792458,\n",
       "        299792458, 299792458, 299792458]),\n",
       " array([299792458, 299792458, 299792458, 299792458, 299792458, 299792458,\n",
       "        299792458]),\n",
       " array([299792458, 299792458, 299792458, 299792458, 299792458, 299792458,\n",
       "        299792458, 299792458, 299792458, 299792458]),\n",
       " array([299792458, 299792458, 299792458, 299792458, 299792458, 299792458,\n",
       "        299792458, 299792458, 299792458, 299792458])]"
      ]
     },
     "execution_count": 303,
     "metadata": {},
     "output_type": "execute_result"
    }
   ],
   "source": [
    "A_epochs"
   ]
  },
  {
   "cell_type": "code",
   "execution_count": 286,
   "metadata": {},
   "outputs": [
    {
     "data": {
      "text/plain": [
       "array([ 74.45153,  23.78258,  17.05099,  53.96859,  78.13982,  64.93862,\n",
       "        84.48380,  63.26054,  38.88737])"
      ]
     },
     "execution_count": 286,
     "metadata": {},
     "output_type": "execute_result"
    }
   ],
   "source": [
    "zn[0]"
   ]
  },
  {
   "cell_type": "code",
   "execution_count": 277,
   "metadata": {},
   "outputs": [
    {
     "data": {
      "text/plain": [
       "63.26053901129386"
      ]
     },
     "execution_count": 277,
     "metadata": {},
     "output_type": "execute_result"
    }
   ],
   "source": [
    "calculateZn(calculateTopoCoords(station.approx_position, sat_coords_at_send[0][I_dash[0].Satellite.astype(int)[7] - 1]))"
   ]
  },
  {
   "cell_type": "code",
   "execution_count": 276,
   "metadata": {},
   "outputs": [
    {
     "data": {
      "text/plain": [
       "0     4\n",
       "1     9\n",
       "2    12\n",
       "3    14\n",
       "4    15\n",
       "5    17\n",
       "6    22\n",
       "7    25\n",
       "8    27\n",
       "Name: Satellite, dtype: int64"
      ]
     },
     "execution_count": 276,
     "metadata": {},
     "output_type": "execute_result"
    }
   ],
   "source": [
    "I_dash[0].Satellite.astype(int)"
   ]
  },
  {
   "cell_type": "code",
   "execution_count": null,
   "metadata": {},
   "outputs": [],
   "source": []
  }
 ],
 "metadata": {
  "kernelspec": {
   "display_name": "Python 3",
   "language": "python",
   "name": "python3"
  },
  "language_info": {
   "codemirror_mode": {
    "name": "ipython",
    "version": 3
   },
   "file_extension": ".py",
   "mimetype": "text/x-python",
   "name": "python",
   "nbconvert_exporter": "python",
   "pygments_lexer": "ipython3",
   "version": "3.8.13"
  },
  "orig_nbformat": 4,
  "vscode": {
   "interpreter": {
    "hash": "9ac03a0a6051494cc606d484d27d20fce22fb7b4d169f583271e11d5ba46a56e"
   }
  }
 },
 "nbformat": 4,
 "nbformat_minor": 2
}
