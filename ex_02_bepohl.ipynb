{
 "cells": [
  {
   "cell_type": "markdown",
   "metadata": {},
   "source": [
    "# Berechnung einer absoluten Positionierung mit Code-Messungen, Teil 2"
   ]
  },
  {
   "cell_type": "code",
   "execution_count": 162,
   "metadata": {},
   "outputs": [],
   "source": [
    "%%capture\n",
    "# Requirements \n",
    "# pip install git+https://github.com/GNSSpy-Project/gnsspy\n",
    "# pip install pyunpack\n",
    "# pip install georinex\n",
    "\n",
    "# Libs\n",
    "import gnsspy as gp\n",
    "import numpy as np\n",
    "import georinex\n",
    "import geopandas\n",
    "import matplotlib.pyplot as plt\n",
    "import math\n",
    "import pandas as pd\n",
    "\n",
    "# Params\n",
    "np.set_printoptions(formatter={'float': '{: 0.5f}'.format})\n",
    "plt.rcParams['figure.dpi'] = 300"
   ]
  },
  {
   "cell_type": "code",
   "execution_count": 163,
   "metadata": {},
   "outputs": [],
   "source": [
    "%%capture\n",
    "# Dataimport\n",
    "station = gp.read_obsFile(\"./data/ONSA0320.11O\")\n",
    "ephemerides = georinex.load(\"./data/G3_11032.PRE\")\n",
    "clock = gp.read_clockFile(\"./data/cod16212.clk\")"
   ]
  },
  {
   "cell_type": "code",
   "execution_count": 164,
   "metadata": {},
   "outputs": [],
   "source": [
    "# get dfs for each epoch\n",
    "clock_epoch_0 = clock[clock.Epoch == \"2011-02-01 00:00:00\"]\n",
    "clock_epoch_1 = clock[clock.Epoch == \"2011-02-01 00:15:00\"]\n",
    "clock_epoch_2 = clock[clock.Epoch == \"2011-02-01 00:30:00\"]\n",
    "clock_epoch_3 = clock[clock.Epoch == \"2011-02-01 00:45:00\"]\n",
    "clock_epoch_4 = clock[clock.Epoch == \"2011-02-01 01:00:00\"]\n",
    "\n",
    "epochs_clock = list((clock_epoch_0, clock_epoch_1, clock_epoch_2, clock_epoch_3, clock_epoch_4))\n",
    "\n",
    "for epoch in epochs_clock:\n",
    "    #epoch.set_index(epoch.index.str.replace(\"G\", \"\").astype(int), inplace=True)\n",
    "    epoch = epoch.drop(\"Epoch\", axis=1)\n",
    "\n",
    "ephemerides_epoch_0 = ephemerides.sel(time=\"2011-02-01T00:00:00.000000000\")\n",
    "ephemerides_epoch_1 = ephemerides.sel(time=\"2011-02-01T00:15:00.000000000\")\n",
    "ephemerides_epoch_2 = ephemerides.sel(time=\"2011-02-01T00:30:00.000000000\")\n",
    "ephemerides_epoch_3 = ephemerides.sel(time=\"2011-02-01T00:45:00.000000000\")\n",
    "ephemerides_epoch_4 = ephemerides.sel(time=\"2011-02-01T01:00:00.000000000\")\n",
    "\n",
    "epochs_ephemerides = list((ephemerides_epoch_0, ephemerides_epoch_1, ephemerides_epoch_2, ephemerides_epoch_3, ephemerides_epoch_4))"
   ]
  },
  {
   "cell_type": "code",
   "execution_count": 165,
   "metadata": {},
   "outputs": [],
   "source": [
    "# Clean all P1 / P2 for the epochs\n",
    "P1_epoch_0 = station.observation.P1[\"2011-02-01 00:00:00\"]\n",
    "P1_epoch_0 = P1_epoch_0.filter(like='G', axis=0).dropna()\n",
    "P2_epoch_0 = station.observation.P2[\"2011-02-01 00:00:00\"]\n",
    "P2_epoch_0 = P2_epoch_0.filter(like='G', axis=0).dropna()\n",
    "\n",
    "P1_epoch_1 = station.observation.P1[\"2011-02-01 00:15:00\"]\n",
    "P1_epoch_1 = P1_epoch_1.filter(like='G', axis=0).dropna()\n",
    "P2_epoch_1 = station.observation.P2[\"2011-02-01 00:15:00\"]\n",
    "P2_epoch_1 = P2_epoch_1.filter(like='G', axis=0).dropna()\n",
    "\n",
    "P1_epoch_2 = station.observation.P1[\"2011-02-01 00:30:00\"]\n",
    "P1_epoch_2 = P1_epoch_2.filter(like='G', axis=0).dropna()\n",
    "P2_epoch_2 = station.observation.P2[\"2011-02-01 00:30:00\"]\n",
    "P2_epoch_2 = P2_epoch_2.filter(like='G', axis=0).dropna()\n",
    "\n",
    "P1_epoch_3 = station.observation.P1[\"2011-02-01 00:45:00\"]\n",
    "P1_epoch_3 = P1_epoch_3.filter(like='G', axis=0).dropna()\n",
    "P2_epoch_3 = station.observation.P2[\"2011-02-01 00:45:00\"]\n",
    "P2_epoch_3 = P2_epoch_3.filter(like='G', axis=0).dropna()\n",
    "\n",
    "P1_epoch_4 = station.observation.P1[\"2011-02-01 01:00:00\"]\n",
    "P1_epoch_4 = P1_epoch_4.filter(like='G', axis=0).dropna()\n",
    "P2_epoch_4 = station.observation.P2[\"2011-02-01 01:00:00\"]\n",
    "P2_epoch_4 = P2_epoch_4.filter(like='G', axis=0).dropna()\n",
    "\n",
    "epochs_P1 = list((P1_epoch_0, P1_epoch_1, P1_epoch_2, P1_epoch_3, P1_epoch_4))\n",
    "epochs_P2 = list((P2_epoch_0, P2_epoch_1, P2_epoch_2, P2_epoch_3, P2_epoch_4))"
   ]
  },
  {
   "cell_type": "code",
   "execution_count": 166,
   "metadata": {},
   "outputs": [],
   "source": [
    "# Helper funcs for satellite Positions\n",
    "# Consts\n",
    "omega_e = 7.292115e-5 #s^-1\n",
    "c = 299792458 #m/s\n",
    "\n",
    "def calculateSatPos(earth_fixed_coords, sat_velocities):\n",
    "    omega_e = 7.292115e-5 #s^-1\n",
    "    c = 299792458 #m/s\n",
    "    \n",
    "    earth_fixed_coords_si = earth_fixed_coords * 1000 # km to m\n",
    "    sat_velocities_si = sat_velocities / 10 # dm/s to m/s\n",
    "    \n",
    "    tau = math.dist(np.array(station.approx_position), earth_fixed_coords_si) / c\n",
    "    sat_coords = np.array(earth_fixed_coords_si).T - np.array( (sat_velocities_si + (omega_e * np.array([-earth_fixed_coords_si[1], earth_fixed_coords_si[0], 0]))) * tau)\n",
    "\n",
    "    return sat_coords\n",
    "\n",
    "# Helper funcs for tropospherical correction\n",
    "# Rotation matrices\n",
    "def ry(a): return np.matrix([[np.cos(a), 0, -np.sin(a)], [0, 1, 0], [np.sin(a), 0, np.cos(a)]])\n",
    "def rz(a): return np.matrix([[np.cos(a), np.sin(a), 0], [-np.sin(a), np.cos(a), 0], [0, 0, 1]])\n",
    "\n",
    "def calculateLatLong(earth_fixed_coords):\n",
    "    x,y,z = earth_fixed_coords\n",
    "\n",
    "    lat = math.degrees(math.atan2(z, math.sqrt(x**2 + y**2)))\n",
    "    lon = math.degrees(math.atan2(y, x))\n",
    "\n",
    "    return lat, lon\n",
    "\n",
    "# Topo Coords\n",
    "def calculateTopoCoords(stat_coord_earth_fixed, earth_fixed_coords_at_send):\n",
    "    lat_s, lon_s = calculateLatLong(stat_coord_earth_fixed)\n",
    "    lat_s, lon_s = math.radians(lat_s), math.radians(lon_s)\n",
    "\n",
    "    # Calculate N, E, U\n",
    "    topo_coords = ry((math.pi / 2) - lat_s) @ rz(lon_s) @ (earth_fixed_coords_at_send - stat_coord_earth_fixed).T\n",
    "    n = -topo_coords[0,0]\n",
    "    e = topo_coords[0,1]\n",
    "    u = topo_coords[0,2]\n",
    "    \n",
    "    return (n, e, u)\n",
    "\n",
    "# Zenitwinkel\n",
    "def calculateZn(topo_coords):\n",
    "    n, e, u = topo_coords\n",
    "    return math.degrees(math.atan2(math.sqrt(n**2 + e**2), u))\n",
    "\n",
    "# Tropo delay\n",
    "def calculateTropDelay(angle):\n",
    "    return 2.4 / math.cos(math.radians(angle))\n",
    "\n",
    "# Relativistic delay\n",
    "def calculateRelativistics(coord, velocity):\n",
    "    velocity = velocity / 10 # dm/s to m/s\n",
    "    return 2 * (coord @ velocity.T) / c"
   ]
  },
  {
   "cell_type": "code",
   "execution_count": 167,
   "metadata": {},
   "outputs": [
    {
     "data": {
      "text/plain": [
       "array([ 18619309.35384, -15884993.13804,  10299699.61402])"
      ]
     },
     "execution_count": 167,
     "metadata": {},
     "output_type": "execute_result"
    }
   ],
   "source": [
    "# Calculate Sat positions for each epoch for each satellite in Interval A\n",
    "sat_coords_at_send = list()\n",
    "velo_at_send = list()\n",
    "for epoch in epochs_ephemerides: # for each epoch\n",
    "    epoch_helper = list()\n",
    "    velo_helper = list()\n",
    "    for j, coord in enumerate(epoch.position): # for each coordinate\n",
    "        #print(\"koord\", coord, \"velo\", epoch.velocity[j])\n",
    "        epoch_helper.append(calculateSatPos(coord, epoch.velocity[j])) # calculate sat position at send time\n",
    "        velo_helper.append(np.array(epoch.velocity[j]))\n",
    "    sat_coords_at_send.append(np.array(epoch_helper))\n",
    "    velo_at_send.append(velo_helper)\n",
    "\n",
    "#sat_coords_at_send[epoch][satellite] #example epoch 4 with g25: sat_coords_at_send[4][24])\n",
    "\n",
    "# Calculate Tropo delay for each epoch for each satellite in Interval A\n",
    "tropo_delay = list()\n",
    "for epoch in sat_coords_at_send: # for each epoch\n",
    "    epoch_helper = list()\n",
    "    for i, coords in enumerate(epoch): # for each coordinate\n",
    "        epoch_helper.append(calculateTropDelay(calculateZn(calculateTopoCoords(station.approx_position, coords))))\n",
    "    tropo_delay.append(np.array(epoch_helper))\n",
    "\n",
    "#print(tropo_delay[0][24])\n",
    "#print(np.array(calculateTopoCoords(np.array(station.approx_position) * 1000, sat_coords_at_send[0][24]))) # should be 0,0,0\n",
    "#print(np.array(calculateZn(calculateTopoCoords(np.array(station.approx_position), sat_coords_at_send[0][24])))) # should be 63.26054\n",
    "\n",
    "# Calculate Relativistic delay for each epoch for each satellite in Interval A\n",
    "relativistic_delay = list()\n",
    "for i, epoch in enumerate(sat_coords_at_send): # for each epoch\n",
    "    epoch_helper = list()\n",
    "    for j, coords in enumerate(epoch): # for each velocity\n",
    "        epoch_helper.append(calculateRelativistics(coords, velo_at_send[i][j]))\n",
    "    relativistic_delay.append(np.array(epoch_helper))\n",
    "\n",
    "# print(relativistic_delay[0][24])\n",
    "sat_coords_at_send[0][24]"
   ]
  },
  {
   "cell_type": "code",
   "execution_count": 168,
   "metadata": {},
   "outputs": [],
   "source": [
    "def calculateP3k(p_1, p_2):\n",
    "    f_0 = 10.23 * 10**6\n",
    "    f_1 = 154 * f_0\n",
    "    f_2 = 120 * f_0\n",
    "    return (f_1**2 * p_1 - f_2**2 * p_2) / (f_1**2 - f_2**2)\n",
    "\n",
    "def calculateI0_i(stat_coord_earth_fixed, earth_fixed_coords_at_send, clock_bias_i, epoch_i, index):\n",
    "    c = 299792458 #m/s\n",
    "\n",
    "    dist = math.dist(np.array(stat_coord_earth_fixed), earth_fixed_coords_at_send)\n",
    "    #print(epoch_i, index)\n",
    "    \n",
    "    #print(earth_fixed_coords_at_send)\n",
    "    trop = tropo_delay[epoch_i][index]\n",
    "    relat = relativistic_delay[epoch_i][index]\n",
    "    #print(clock_bias_i * c)\n",
    "    return dist + trop + relat - clock_bias_i * c\n",
    "\n",
    "# Calculate a-priori clock bias for each epoch for each satellite in Interval A\n",
    "p3k_i = list()\n",
    "I_0_i = list()\n",
    "for i, epoch in enumerate(epochs_ephemerides): # for each epoch\n",
    "    epoch_helper = list()\n",
    "    epoch_helper_i0 = list()\n",
    "    observed_satellites = epochs_P1[i].index.str.replace('G', '').astype(int)\n",
    "    for j, coords in enumerate(epoch.position): # for each delta\n",
    "        if j in observed_satellites:\n",
    "            # calculate P3_i\n",
    "            index = str(j)\n",
    "            if j < 10: index = \"0\" + index\n",
    "            p_1, p_2 = epochs_P1[i][\"G\" + index], epochs_P2[i][\"G\" + index]\n",
    "            epoch_helper.append((index, calculateP3k(p_1, p_2)))\n",
    "\n",
    "            # Calculate I0_i\n",
    "            epoch_helper_i0.append((index, calculateI0_i(station.approx_position, sat_coords_at_send[i][j - 1], epochs_clock[i][\"DeltaTSV\"][\"G\" + index], i, j - 1)))\n",
    "    p3k_i.append(pd.DataFrame(epoch_helper).rename(columns={0: \"Satellite\", 1: \"P3_k\"}))\n",
    "    I_0_i.append(pd.DataFrame(epoch_helper_i0).rename(columns={0: \"Satellite\", 1: \"I_0\"}))\n",
    "\n",
    "\n",
    "#print(np.array(p3k_i[0]))\n",
    "#print(np.array(I_0_i[0]))\n",
    "#epochs_P1[i].index.str.replace('G', '').astype(int)"
   ]
  },
  {
   "cell_type": "code",
   "execution_count": 169,
   "metadata": {},
   "outputs": [],
   "source": [
    "# Ausgleichsrechnung\n",
    "## Init I tilde\n",
    "I_dash = list()\n",
    "for i, p3k in enumerate(p3k_i):\n",
    "    satellites = p3k.Satellite\n",
    "    I_dash_i = p3k.P3_k - I_0_i[i].I_0\n",
    "    concat = pd.DataFrame({\"Satellite\": satellites, \"I_dash\": I_dash_i})\n",
    "    I_dash.append(concat)\n",
    "\n",
    "## Initialize all P matrices\n",
    "P_epochs = list()\n",
    "zn = list()\n",
    "for i, I_dash_i in enumerate(I_dash):\n",
    "    zn_list = list()\n",
    "    for j, satellite in enumerate(I_dash_i.I_dash):\n",
    "        zn_list.append(calculateZn(calculateTopoCoords(station.approx_position, sat_coords_at_send[i][I_dash[i].Satellite.astype(int)[j] - 1]))) # ZN of satellite i\n",
    "    P_epochs.append( np.diag(np.cos(np.radians((np.array(zn_list))))**2 ))\n",
    "    \n",
    "## Initialize A matrices\n",
    "A_epochs = list()\n",
    "for i, I_dash_i in enumerate(I_dash):\n",
    "    A_epochs.append(np.full((len(I_dash_i), 1), c))\n",
    "\n",
    "## do your thing\n",
    "delta_tk_epochs = list()\n",
    "for i in range(5):\n",
    "    delta_tk_epochs.append( np.linalg.inv(A_epochs[i].T @ P_epochs[i] @ A_epochs[i]) @ A_epochs[i].T @ P_epochs[i] @ I_dash[i].I_dash)"
   ]
  },
  {
   "cell_type": "code",
   "execution_count": 170,
   "metadata": {},
   "outputs": [
    {
     "name": "stdout",
     "output_type": "stream",
     "text": [
      "-2.60725722515549e-05\n",
      "-2.607239480478024e-05\n",
      "-2.6070772278066725e-05\n",
      "-2.60707140000212e-05\n",
      "-2.6069728000436512e-05\n"
     ]
    }
   ],
   "source": [
    "for delta_tk in delta_tk_epochs:\n",
    "    print(float(delta_tk))"
   ]
  },
  {
   "cell_type": "code",
   "execution_count": 171,
   "metadata": {},
   "outputs": [
    {
     "data": {
      "text/plain": [
       "-6.63171580241e-05"
      ]
     },
     "execution_count": 171,
     "metadata": {},
     "output_type": "execute_result"
    }
   ],
   "source": [
    "epochs_clock[0][\"DeltaTSV\"][\"G25\"]"
   ]
  },
  {
   "cell_type": "code",
   "execution_count": 172,
   "metadata": {},
   "outputs": [],
   "source": [
    "# Use this for indexing (eg. sats[1] = \"G01\")\n",
    "sats = list()\n",
    "for i in range(40):\n",
    "    if i < 10: i = \"0\" + str(i)\n",
    "    sats.append(\"G\" + str(i))"
   ]
  },
  {
   "cell_type": "code",
   "execution_count": 179,
   "metadata": {},
   "outputs": [
    {
     "data": {
      "text/plain": [
       "[['G04', 'G09', 'G12', 'G14', 'G15', 'G17', 'G22', 'G25', 'G27'],\n",
       " ['G02', 'G04', 'G09', 'G12', 'G14', 'G15', 'G17', 'G25', 'G27'],\n",
       " ['G02', 'G04', 'G09', 'G12', 'G14', 'G25', 'G27'],\n",
       " ['G02', 'G04', 'G09', 'G12', 'G14', 'G17', 'G20', 'G25', 'G27', 'G29'],\n",
       " ['G02', 'G04', 'G09', 'G12', 'G14', 'G20', 'G25', 'G27', 'G29', 'G31']]"
      ]
     },
     "execution_count": 179,
     "metadata": {},
     "output_type": "execute_result"
    }
   ],
   "source": [
    "# 2a) Correction Sat positions \n",
    "##TODO not working yet, values way too big\n",
    "def calculateSatPosTau(earth_fixed_coords, sat_velocities, tau):\n",
    "    omega_e = 7.292115e-5 #s^-1\n",
    "    c = 299792458 #m/s\n",
    "    \n",
    "    earth_fixed_coords_si = earth_fixed_coords * 1000 # km to m\n",
    "    sat_velocities_si = sat_velocities / 10 # dm/s to m/s\n",
    "    \n",
    "    sat_coords = np.array(earth_fixed_coords_si).T - np.array( (sat_velocities_si + (omega_e * np.array([-earth_fixed_coords_si[1], earth_fixed_coords_si[0], 0]))) * tau)\n",
    "\n",
    "    return sat_coords\n",
    "\n",
    "# Calculate Sat positions for each epoch for each satellite in Interval A\n",
    "sat_coords_at_send_corrected = list()\n",
    "velo_at_send = list()\n",
    "for i, epoch in enumerate(p3k_i): # for each epoch\n",
    "    epoch_helper = dict()\n",
    "    velo_helper = list()\n",
    "    for j, p3kij in enumerate(epoch.values):\n",
    "        #print(int(p3kij[0]))\n",
    "        epoch_helper.update({\"G\" + p3kij[0]: calculateSatPosTau(epochs_ephemerides[i].sel(sv=sats[int(p3kij[0])]).position, epochs_ephemerides[i].sel(sv=sats[int(p3kij[0])]).velocity, p3kij[1])}) # calculate sat position at send time\n",
    "        velo_helper.append(np.array(epochs_ephemerides[i].sel(sv=sats[int(p3kij[0])]).velocity))\n",
    "    sat_coords_at_send_corrected.append(epoch_helper)\n",
    "    velo_at_send.append(velo_helper)\n",
    "\n",
    "observed_satellites_epochs = list()\n",
    "for epoch in sat_coords_at_send_corrected:\n",
    "    observed_satellites_epochs.append(list(epoch.keys()))\n",
    "\n",
    "observed_satellites_epochs"
   ]
  },
  {
   "cell_type": "code",
   "execution_count": 176,
   "metadata": {},
   "outputs": [],
   "source": [
    "# Ausgleichsrechnung\n",
    "## Init I tilde\n",
    "I_dash = list()\n",
    "for i, p3k in enumerate(p3k_i):\n",
    "    satellites = p3k.Satellite\n",
    "    I_dash_i = p3k.P3_k - I_0_i[i].I_0\n",
    "    concat = pd.DataFrame({\"Satellite\": satellites, \"I_dash\": I_dash_i})\n",
    "    I_dash.append(concat)\n",
    "\n",
    "## Initialize all P matrices\n",
    "P_epochs = list()\n",
    "zn = list()\n",
    "for i, epoch in enumerate(observed_satellites_epochs):\n",
    "    zn_list = list()\n",
    "    for j, satellite in enumerate(epoch):\n",
    "        #print(i)\n",
    "        zn_list.append(calculateZn(calculateTopoCoords(station.approx_position, sat_coords_at_send_corrected[i][satellite]))) # ZN of satellite i\n",
    "    P_epochs.append( np.diag(np.cos(np.radians((np.array(zn_list))))**2) )\n",
    "    \n",
    "## Initialize A matrices\n",
    "A_epochs = list()\n",
    "for i, epoch in enumerate(observed_satellites_epochs):\n",
    "    Ai_list = list()\n",
    "    for j, satellite in enumerate(epoch):\n",
    "        X_s, Y_s, Z_s = station.approx_position\n",
    "        X_sat, Y_sat, Z_sat = sat_coords_at_send_corrected[i][satellite]\n",
    "        dist = math.dist(station.approx_position, sat_coords_at_send_corrected[i][satellite])\n",
    "        Ai_list.append(np.array([(X_sat - X_s) / dist, (Y_sat - Y_s) / dist, (Z_sat - Z_s) / dist]))\n",
    "    A_epochs.append(np.array(Ai_list))\n",
    "## do your thing\n",
    "stat_coord_epochs = list()\n",
    "for i in range(5):\n",
    "    stat_coord_epochs.append( np.linalg.inv(A_epochs[i].T @ P_epochs[i] @ A_epochs[i]) @ A_epochs[i].T @ P_epochs[i] @ I_dash[i].I_dash)"
   ]
  },
  {
   "cell_type": "code",
   "execution_count": 177,
   "metadata": {},
   "outputs": [
    {
     "data": {
      "text/plain": [
       "[array([-4459.59362,  11141.65565, -717.02711]),\n",
       " array([-7653.94223,  10721.90897,  57.66683]),\n",
       " array([-2754.31293,  11015.30659,  201.80206]),\n",
       " array([-11667.22551,  11226.76743,  1989.36265]),\n",
       " array([ 3151.08890,  12999.05075, -360.56686])]"
      ]
     },
     "execution_count": 177,
     "metadata": {},
     "output_type": "execute_result"
    }
   ],
   "source": [
    "stat_coord_epochs"
   ]
  },
  {
   "cell_type": "code",
   "execution_count": 191,
   "metadata": {},
   "outputs": [
    {
     "data": {
      "text/plain": [
       "[(1344.6251729138214, 11822.716171446376, -12727806.672181107),\n",
       " (4464.688983227752, 12072.109019112591, -12728894.424945898),\n",
       " (461.25303924763364, 11346.71492298356, -12726144.965284023),\n",
       " (8724.195073614583, 13395.375935689046, -12729339.785500027),\n",
       " (-5045.723898855398, 12067.351875197463, -12723267.612710435)]"
      ]
     },
     "execution_count": 191,
     "metadata": {},
     "output_type": "execute_result"
    }
   ],
   "source": [
    "# 2c) Abweichungen zwischen präzisen und berechneten Koordinaten\n",
    "X_s_prec, Y_s_prec, Z_s_prec = 3370658.4552, 711877.2266, 5349787.0151\n",
    "stat_prec = (X_s_prec, Y_s_prec, Z_s_prec)\n",
    "lat_s_prec, lon_s_prec = calculateLatLong(stat_prec)\n",
    "\n",
    "stat_neu = list()\n",
    "for i in range(5):\n",
    "    stat_neu.append(calculateTopoCoords((X_s_prec, Y_s_prec, Z_s_prec), stat_coord_epochs[i] - stat_prec))\n",
    "stat_neu"
   ]
  },
  {
   "cell_type": "code",
   "execution_count": 184,
   "metadata": {},
   "outputs": [
    {
     "data": {
      "text/plain": [
       "(57.22036013392161, 11.925513115713049)"
      ]
     },
     "execution_count": 184,
     "metadata": {},
     "output_type": "execute_result"
    }
   ],
   "source": [
    "calculateLatLong(station.approx_position)"
   ]
  },
  {
   "cell_type": "code",
   "execution_count": null,
   "metadata": {},
   "outputs": [],
   "source": []
  }
 ],
 "metadata": {
  "kernelspec": {
   "display_name": "Python 3",
   "language": "python",
   "name": "python3"
  },
  "language_info": {
   "codemirror_mode": {
    "name": "ipython",
    "version": 3
   },
   "file_extension": ".py",
   "mimetype": "text/x-python",
   "name": "python",
   "nbconvert_exporter": "python",
   "pygments_lexer": "ipython3",
   "version": "3.8.13"
  },
  "orig_nbformat": 4,
  "vscode": {
   "interpreter": {
    "hash": "9ac03a0a6051494cc606d484d27d20fce22fb7b4d169f583271e11d5ba46a56e"
   }
  }
 },
 "nbformat": 4,
 "nbformat_minor": 2
}
