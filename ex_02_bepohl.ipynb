{
 "cells": [
  {
   "cell_type": "markdown",
   "metadata": {},
   "source": [
    "# Berechnung einer absoluten Positionierung mit Code-Messungen, Teil 2"
   ]
  },
  {
   "cell_type": "code",
   "execution_count": 1,
   "metadata": {},
   "outputs": [],
   "source": [
    "%%capture\n",
    "# Requirements \n",
    "# pip install git+https://github.com/GNSSpy-Project/gnsspy\n",
    "# pip install pyunpack\n",
    "# pip install georinex\n",
    "\n",
    "# Libs\n",
    "import gnsspy as gp\n",
    "import numpy as np\n",
    "import georinex\n",
    "import geopandas\n",
    "import matplotlib.pyplot as plt\n",
    "import math\n",
    "import pandas as pd\n",
    "\n",
    "# Params\n",
    "np.set_printoptions(formatter={'float': '{: 0.5f}'.format})\n",
    "plt.rcParams['figure.dpi'] = 300"
   ]
  },
  {
   "cell_type": "code",
   "execution_count": 2,
   "metadata": {},
   "outputs": [],
   "source": [
    "%%capture\n",
    "# Dataimport\n",
    "station = gp.read_obsFile(\"./data/ONSA0320.11O\")\n",
    "ephemerides = georinex.load(\"./data/G3_11032.PRE\")\n",
    "clock = gp.read_clockFile(\"./data/cod16212.clk\")"
   ]
  },
  {
   "cell_type": "code",
   "execution_count": 3,
   "metadata": {},
   "outputs": [],
   "source": [
    "# get dfs for each epoch\n",
    "clock_epoch_0 = clock[clock.Epoch == \"2011-02-01 00:00:00\"]\n",
    "clock_epoch_1 = clock[clock.Epoch == \"2011-02-01 00:15:00\"]\n",
    "clock_epoch_2 = clock[clock.Epoch == \"2011-02-01 00:30:00\"]\n",
    "clock_epoch_3 = clock[clock.Epoch == \"2011-02-01 00:45:00\"]\n",
    "clock_epoch_4 = clock[clock.Epoch == \"2011-02-01 01:00:00\"]\n",
    "\n",
    "epochs_clock = list((clock_epoch_0, clock_epoch_1, clock_epoch_2, clock_epoch_3, clock_epoch_4))\n",
    "\n",
    "ephemerides_epoch_0 = ephemerides.sel(time=\"2011-02-01T00:00:00.000000000\")\n",
    "ephemerides_epoch_1 = ephemerides.sel(time=\"2011-02-01T00:15:00.000000000\")\n",
    "ephemerides_epoch_2 = ephemerides.sel(time=\"2011-02-01T00:30:00.000000000\")\n",
    "ephemerides_epoch_3 = ephemerides.sel(time=\"2011-02-01T00:45:00.000000000\")\n",
    "ephemerides_epoch_4 = ephemerides.sel(time=\"2011-02-01T01:00:00.000000000\")\n",
    "\n",
    "epochs_ephemerides = list((ephemerides_epoch_0, ephemerides_epoch_1, ephemerides_epoch_2, ephemerides_epoch_3, ephemerides_epoch_4))\n"
   ]
  },
  {
   "cell_type": "code",
   "execution_count": 77,
   "metadata": {},
   "outputs": [],
   "source": [
    "# Helper funcs for satellite Positions\n",
    "# Consts\n",
    "omega_e = 7.292115e-5 #s^-1\n",
    "c = 299792458 #m/s\n",
    "\n",
    "def calculateSatPos(earth_fixed_coords, sat_velocities):\n",
    "    earth_fixed_coords_si = earth_fixed_coords * 1000 # km to m\n",
    "    sat_velocities_si = sat_velocities / 10 # dm/s to m/s\n",
    "    \n",
    "    tau = math.dist(np.array(station.approx_position), earth_fixed_coords_si) / c\n",
    "    sat_coords = np.array(earth_fixed_coords_si).T - np.array( (sat_velocities_si + (omega_e * np.array([-earth_fixed_coords_si[1], earth_fixed_coords_si[0], 0]))) * tau)\n",
    "\n",
    "    return sat_coords\n",
    "\n",
    "# Helper funcs for tropospherical correction\n",
    "# Rotation matrices\n",
    "def ry(a): return np.matrix([[np.cos(a), 0, -np.sin(a)], [0, 1, 0], [np.sin(a), 0, np.cos(a)]])\n",
    "def rz(a): return np.matrix([[np.cos(a), np.sin(a), 0], [-np.sin(a), np.cos(a), 0], [0, 0, 1]])\n",
    "\n",
    "def calculateLatLong(earth_fixed_coords):\n",
    "    x,y,z = earth_fixed_coords\n",
    "\n",
    "    lat = math.degrees(math.atan2(z, math.sqrt(x**2 + y**2)))\n",
    "    lon = math.degrees(math.atan2(y, x))\n",
    "\n",
    "    return lat, lon\n",
    "\n",
    "# Topo Coords\n",
    "def calculateTopoCoords(stat_coord_earth_fixed, earth_fixed_coords_at_send):\n",
    "    lat_s, lon_s = calculateLatLong(stat_coord_earth_fixed)\n",
    "    lat_s, lon_s = math.radians(lat_s), math.radians(lon_s)\n",
    "\n",
    "    # Calculate N, E, U\n",
    "    topo_coords = ry((math.pi / 2) - lat_s) @ rz(lon_s) @ (earth_fixed_coords_at_send - stat_coord_earth_fixed).T\n",
    "    n = -topo_coords[0,0]\n",
    "    e = topo_coords[0,1]\n",
    "    u = topo_coords[0,2]\n",
    "    \n",
    "    return (n, e, u)\n",
    "\n",
    "# Zenitwinkel\n",
    "def calculateZn(topo_coords):\n",
    "    n, e, u = topo_coords\n",
    "    return math.degrees(math.atan2(math.sqrt(n**2 + e**2), u))\n",
    "\n",
    "# Tropo delay\n",
    "def calculateTropDelay(angle):\n",
    "    return 2.4 / math.cos(math.radians(angle))\n",
    "\n",
    "# Relativistic delay\n",
    "def calculateRelativistics(coord, velocity):\n",
    "    velocity = velocity / 10 # dm/s to m/s\n",
    "    return 2 * (coord @ velocity.T) / c"
   ]
  },
  {
   "cell_type": "code",
   "execution_count": 85,
   "metadata": {},
   "outputs": [
    {
     "name": "stdout",
     "output_type": "stream",
     "text": [
      "5.334113554383368\n"
     ]
    }
   ],
   "source": [
    "# Calculate Sat positions for each epoch for each satellite in Interval A\n",
    "sat_coords_at_send = list()\n",
    "velo_at_send = list()\n",
    "for epoch in epochs_ephemerides: # for each epoch\n",
    "    epoch_helper = list()\n",
    "    velo_helper = list()\n",
    "    for j, coord in enumerate(epoch.position): # for each coordinate\n",
    "        #print(\"koord\", coord, \"velo\", epoch.velocity[j])\n",
    "        epoch_helper.append(calculateSatPos(coord, epoch.velocity[j])) # calculate sat position at send time\n",
    "        velo_helper.append(np.array(epoch.velocity[j]))\n",
    "    sat_coords_at_send.append(np.array(epoch_helper))\n",
    "    velo_at_send.append(velo_helper)\n",
    "\n",
    "# sat_coords_at_send[epoch][satellite] example epoch 4 with g25: sat_coords_at_send[4][24])\n",
    "\n",
    "# Calculate Tropo delay for each epoch for each satellite in Interval A\n",
    "tropo_delay = list()\n",
    "for epoch in sat_coords_at_send: # for each epoch\n",
    "    epoch_helper = list()\n",
    "    for i, coords in enumerate(epoch): # for each coordinate\n",
    "        epoch_helper.append(calculateTropDelay(calculateZn(calculateTopoCoords(station.approx_position, coords))))\n",
    "    tropo_delay.append(np.array(epoch_helper))\n",
    "\n",
    "print(tropo_delay[0][24])\n",
    "#print(np.array(calculateTopoCoords(np.array(station.approx_position) * 1000, sat_coords_at_send[0][24]))) # should be 0,0,0\n",
    "#print(np.array(calculateZn(calculateTopoCoords(np.array(station.approx_position), sat_coords_at_send[0][24])))) # should be 63.26054\n",
    "\n",
    "# Calculate Relativistic delay for each epoch for each satellite in Interval A\n",
    "relativistic_delay = list()\n",
    "for i, epoch in enumerate(sat_coords_at_send): # for each epoch\n",
    "    epoch_helper = list()\n",
    "    for j, coords in enumerate(epoch): # for each velocity\n",
    "        epoch_helper.append(calculateRelativistics(coords, velo_at_send[i][j]))\n",
    "    relativistic_delay.append(np.array(epoch_helper))\n",
    "\n",
    "# print(relativistic_delay[0][24])"
   ]
  },
  {
   "cell_type": "code",
   "execution_count": null,
   "metadata": {},
   "outputs": [],
   "source": []
  }
 ],
 "metadata": {
  "kernelspec": {
   "display_name": "Python 3.8.13 64-bit ('3.8.13')",
   "language": "python",
   "name": "python3"
  },
  "language_info": {
   "codemirror_mode": {
    "name": "ipython",
    "version": 3
   },
   "file_extension": ".py",
   "mimetype": "text/x-python",
   "name": "python",
   "nbconvert_exporter": "python",
   "pygments_lexer": "ipython3",
   "version": "3.8.13"
  },
  "orig_nbformat": 4,
  "vscode": {
   "interpreter": {
    "hash": "110cc1dee26208153f2972f08a2ad52b6a56238dc66d48e87fb757ef2996db56"
   }
  }
 },
 "nbformat": 4,
 "nbformat_minor": 2
}
